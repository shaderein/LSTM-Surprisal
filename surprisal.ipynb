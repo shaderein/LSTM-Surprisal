{
 "cells": [
  {
   "cell_type": "code",
   "execution_count": 1,
   "source": [
    "import torch\n",
    "import numpy as np\n",
    "import torch.nn as nn\n",
    "import pickle\n",
    "\n",
    "from utils.data import preprocess, word2idx, Dictionary\n",
    "from nltk import sent_tokenize"
   ],
   "outputs": [
    {
     "output_type": "stream",
     "name": "stderr",
     "text": [
      "[nltk_data] Downloading package punkt to /home/shaderein/nltk_data...\n",
      "[nltk_data]   Package punkt is already up-to-date!\n"
     ]
    }
   ],
   "metadata": {}
  },
  {
   "cell_type": "code",
   "execution_count": 2,
   "source": [
    "print(torch.__version__)"
   ],
   "outputs": [
    {
     "output_type": "stream",
     "name": "stdout",
     "text": [
      "1.2.0\n"
     ]
    }
   ],
   "metadata": {}
  },
  {
   "cell_type": "markdown",
   "source": [
    "# Load pretrained models\n",
    "`/LSTM_40m` contains a batch of pretrained models. The name convention is:\n",
    "\n",
    "`LSTM_[Hidden Units]_[Training Tokens]_[Training Partition]_[Random Seed]-d[Dropout Rate].pt`\n",
    "\n",
    "The following analysis was done on models with 3 different hidden sizes [100/400/1600]"
   ],
   "metadata": {}
  },
  {
   "cell_type": "code",
   "execution_count": 4,
   "source": [
    "model_100_file = './data/LSTM_40m/LSTM_100_40m_a_0-d0.2.pt'\n",
    "model_400_file = './data/LSTM_40m/LSTM_400_40m_a_10-d0.2.pt'\n",
    "model_1600_file = './data/LSTM_40m/LSTM_1600_40m_a_20-d0.2.pt'\n",
    "\n",
    "model_100 = torch.load(model_100_file, map_location=torch.device('cpu'))\n",
    "model_100.eval()\n",
    "\n",
    "model_400 = torch.load(model_400_file, map_location=torch.device('cpu'))\n",
    "model_400.eval()\n",
    "\n",
    "model_1600 = torch.load(model_1600_file, map_location=torch.device('cpu'))\n",
    "model_1600.eval()\n",
    "\n",
    "\n",
    "print(model_100)"
   ],
   "outputs": [
    {
     "output_type": "stream",
     "name": "stdout",
     "text": [
      "RNNModel(\n",
      "  (drop): Dropout(p=0.2, inplace=False)\n",
      "  (encoder): Embedding(28439, 100)\n",
      "  (rnn): LSTM(100, 100, num_layers=2, dropout=0.2)\n",
      "  (decoder): Linear(in_features=100, out_features=28439, bias=True)\n",
      ")\n"
     ]
    }
   ],
   "metadata": {}
  },
  {
   "cell_type": "markdown",
   "source": [
    "# Load vocab and text files"
   ],
   "metadata": {}
  },
  {
   "cell_type": "markdown",
   "source": [
    "Load and preprocess the story file. (Lowercase and append \"EOS\")\n",
    "\n",
    "Mark highlighted sentences"
   ],
   "metadata": {}
  },
  {
   "cell_type": "code",
   "execution_count": 5,
   "source": [
    "story_file = \"./data/text/Full Story_So much water so close to home_targetedQ_Highlighted.docx\"\n",
    "vocab_file = \"./data/vocab.txt\"\n",
    "\n",
    "vocab = Dictionary(vocab_file)\n",
    "vocab_size = len(vocab.word2idx)\n",
    "story_text, is_highlight = preprocess(story_file)\n",
    "processed_story, story_sents = word2idx(story_text, vocab)\n",
    "\n",
    "sample_sent_idx = 2\n",
    "print(story_text[sample_sent_idx])\n",
    "print(processed_story[sample_sent_idx])\n",
    "print(is_highlight[sample_sent_idx])\n",
    "print(story_sents[sample_sent_idx])"
   ],
   "outputs": [
    {
     "output_type": "stream",
     "name": "stdout",
     "text": [
      "He chews, arms on the table, and stares at something across the room.\n",
      "['<eos>', 'he', '<unk>', ',', 'arms', 'on', 'the', 'table', ',', 'and', '<unk>', 'at', 'something', 'across', 'the', 'room', '.']\n",
      "False\n",
      "tensor([[28438],\n",
      "        [   18],\n",
      "        [28437],\n",
      "        [    1],\n",
      "        [ 1124],\n",
      "        [   13],\n",
      "        [    0],\n",
      "        [ 1571],\n",
      "        [    1],\n",
      "        [    5],\n",
      "        [28437],\n",
      "        [   22],\n",
      "        [  574],\n",
      "        [  475],\n",
      "        [    0],\n",
      "        [  804],\n",
      "        [    2]])\n"
     ]
    }
   ],
   "metadata": {}
  },
  {
   "cell_type": "markdown",
   "source": [
    "To test the validity of `sent_perplexity`, run each model again on an excerpt from [test.txt](https://github.com/vansky/neural-complexity/blob/master/data/wikitext-2/test.txt) used to evaluate the language model. (From wikitext-2 dataset)"
   ],
   "metadata": {}
  },
  {
   "cell_type": "code",
   "execution_count": 6,
   "source": [
    "test_file = \"./data/test.txt\"\n",
    "with open(test_file, \"r\") as text_file:\n",
    "    test_text = text_file.read().replace('\\n', '')\n",
    "test_text = sent_tokenize(test_text)\n",
    "processed_test, test_sents = word2idx(test_text, vocab)\n",
    "\n",
    "print(test_text[1])\n",
    "print(processed_test[1])"
   ],
   "outputs": [
    {
     "output_type": "stream",
     "name": "stdout",
     "text": [
      "It caused enormous disruption to Chinese society : the census of 754 recorded 52 @.\n",
      "['<eos>', 'it', 'caused', 'enormous', 'disruption', 'to', '<unk>', 'society', ':', 'the', 'census', 'of', '<unk>', 'recorded', '<unk>', '@', '.']\n"
     ]
    }
   ],
   "metadata": {}
  },
  {
   "cell_type": "markdown",
   "source": [
    "# Calculate PPL per sentence\n",
    "\n",
    "Calculate sentence PPL for each highlight and averaged over them.\n",
    "\n",
    "For each sentence, PPL is calculated as `exp(cross_entropy_loss[prediction, target])`, where `prediction` includes output from reading w[-1] (the last output from the previous sentence) all the way to w[n-2] and `target` includes w[0],...,w[n-1] (the last word of the current sentence, which is always 'EOS' now after preprocessing.)"
   ],
   "metadata": {}
  },
  {
   "cell_type": "code",
   "execution_count": 7,
   "source": [
    "from utils.analysis import sent_perplexity\n",
    "models = [model_100, model_400, model_1600]"
   ],
   "outputs": [],
   "metadata": {}
  },
  {
   "cell_type": "markdown",
   "source": [
    "## Story text"
   ],
   "metadata": {}
  },
  {
   "cell_type": "code",
   "execution_count": 9,
   "source": [
    "with torch.no_grad():\n",
    "    for model in models:\n",
    "        ppl_sent_highlight = []\n",
    "        hidden_size = model.nhid\n",
    "        for i, sent in enumerate(story_sents):\n",
    "            if i==0:\n",
    "                hidden = model.init_hidden(bsz=1)\n",
    "                out, hidden = model(sent, hidden)\n",
    "                continue\n",
    "            ppl, out, hidden = sent_perplexity(sent, model, vocab, hidden)\n",
    "            if is_highlight[i]:\n",
    "                ppl_sent_highlight.append(ppl)\n",
    "\n",
    "        print(f\"Model_{hidden_size} ppl {np.mean(ppl_sent_highlight)}\")"
   ],
   "outputs": [
    {
     "output_type": "stream",
     "name": "stdout",
     "text": [
      "Model_100 ppl 248.5772705078125\n",
      "Model_400 ppl 142.5596160888672\n",
      "Model_1600 ppl 118.00228881835938\n"
     ]
    }
   ],
   "metadata": {}
  },
  {
   "cell_type": "markdown",
   "source": [
    "### Without Context"
   ],
   "metadata": {}
  },
  {
   "cell_type": "code",
   "execution_count": 10,
   "source": [
    "with torch.no_grad():\n",
    "    for model in models:\n",
    "        ppl_sent_highlight = []\n",
    "        hidden_size = model.nhid\n",
    "        # initialization\n",
    "        hidden_init = model.init_hidden(bsz=1)\n",
    "        for i, sent in enumerate(story_sents):\n",
    "            ppl, out, hidden = sent_perplexity(sent, model, vocab, hidden_init)\n",
    "            if is_highlight[i]:\n",
    "                ppl_sent_highlight.append(ppl)\n",
    "\n",
    "        print(f\"Model_{hidden_size} ppl {np.mean(ppl_sent_highlight)}\")"
   ],
   "outputs": [
    {
     "output_type": "stream",
     "name": "stdout",
     "text": [
      "Model_100 ppl 402.2755126953125\n",
      "Model_400 ppl 254.4184112548828\n",
      "Model_1600 ppl 327.157470703125\n"
     ]
    }
   ],
   "metadata": {}
  },
  {
   "cell_type": "markdown",
   "source": [
    "## Test text from wikitext-2"
   ],
   "metadata": {}
  },
  {
   "cell_type": "code",
   "execution_count": 11,
   "source": [
    "with torch.no_grad():\n",
    "    for model in models:\n",
    "        ppl_sent = []\n",
    "        hidden_size = model.nhid\n",
    "        for i, sent in enumerate(test_sents):\n",
    "            if i==0:\n",
    "                hidden = model.init_hidden(bsz=1)\n",
    "                out, hidden = model(sent, hidden)\n",
    "                continue\n",
    "            ppl, out, hidden = sent_perplexity(sent, model, vocab, hidden)\n",
    "            if is_highlight[i]:\n",
    "                ppl_sent.append(ppl)\n",
    "\n",
    "        print(f\"Model_{hidden_size} ppl {np.mean(ppl_sent)}\")"
   ],
   "outputs": [
    {
     "output_type": "stream",
     "name": "stdout",
     "text": [
      "Model_100 ppl 76.89266967773438\n",
      "Model_400 ppl 49.88071060180664\n",
      "Model_1600 ppl 54.01231384277344\n"
     ]
    }
   ],
   "metadata": {}
  },
  {
   "cell_type": "markdown",
   "source": [
    "### Without context"
   ],
   "metadata": {}
  },
  {
   "cell_type": "code",
   "execution_count": 12,
   "source": [
    "with torch.no_grad():\n",
    "    for model in models:\n",
    "        ppl_sent_highlight = []\n",
    "        hidden_size = model.nhid\n",
    "        # initialization\n",
    "        hidden_init = model.init_hidden(bsz=1)\n",
    "        for i, sent in enumerate(test_sents):\n",
    "            ppl, out, hidden = sent_perplexity(sent, model, vocab, hidden_init)\n",
    "            if is_highlight[i]:\n",
    "                ppl_sent_highlight.append(ppl)\n",
    "\n",
    "        print(f\"Model_{hidden_size} ppl {np.mean(ppl_sent_highlight)}\")"
   ],
   "outputs": [
    {
     "output_type": "stream",
     "name": "stdout",
     "text": [
      "Model_100 ppl 88.2619400024414\n",
      "Model_400 ppl 55.22896194458008\n",
      "Model_1600 ppl 57.528934478759766\n"
     ]
    }
   ],
   "metadata": {}
  }
 ],
 "metadata": {
  "orig_nbformat": 4,
  "language_info": {
   "name": "python",
   "version": "3.7.11",
   "mimetype": "text/x-python",
   "codemirror_mode": {
    "name": "ipython",
    "version": 3
   },
   "pygments_lexer": "ipython3",
   "nbconvert_exporter": "python",
   "file_extension": ".py"
  },
  "kernelspec": {
   "name": "python3",
   "display_name": "Python 3.7.11 64-bit ('surprisal': conda)"
  },
  "interpreter": {
   "hash": "befcceb12cb034c48af7b10efe8e73840bea0f2351e085485eb3fddf44b48fbc"
  }
 },
 "nbformat": 4,
 "nbformat_minor": 2
}